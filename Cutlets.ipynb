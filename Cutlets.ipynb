{
  "nbformat": 4,
  "nbformat_minor": 0,
  "metadata": {
    "colab": {
      "provenance": []
    },
    "kernelspec": {
      "name": "python3",
      "display_name": "Python 3"
    },
    "language_info": {
      "name": "python"
    }
  },
  "cells": [
    {
      "cell_type": "markdown",
      "source": [
        "Assumptions:\n",
        "a. Independence: We assume that the measurements of cutlets from each unit are independent of each other.\n",
        "\n",
        "\n",
        "b. Perform the Two-Sample t-test:\n",
        "Assuming the assumptions hold, we can perform the two-sample t-test to determine if there is a significant difference in the mean diameter between the two units.\n"
      ],
      "metadata": {
        "id": "V5YpXM5MM_2Q"
      }
    },
    {
      "cell_type": "code",
      "source": [
        "unit1=[6.809,6.4376,6.9157,7.3012,7.4488,7.3871,6.8755,7.0621,6.684,6.8236,7.393,7.5169,6.9246,6.9256,6.5797,6.8394,6.597,7.2705,7.2828,7.3495,6.9438,7.156,6.5341,7.2854,6.9952,6.8568,7.2163,6.6801,6.9431,7.0852,6.7794,7.2783,7.1561,7.3943,6.9405]\n",
        "unit2=[6.7703,7.5093,6.73,6.7878,7.1522,6.811,7.2212,6.6606,7.2402,7.0503,6.881,7.4059,6.7652,6.038,7.1581,7.024,6.6672,7.4314,7.307,6.7478,6.8889,7.422,6.5217,7.1688,6.7594,6.9399,7.0133,6.9182,6.3346,7.5459,7.0992,7.118,6.6965,6.578,7.3875]"
      ],
      "metadata": {
        "id": "Gz9NOQG7K6oK"
      },
      "execution_count": null,
      "outputs": []
    },
    {
      "cell_type": "code",
      "source": [
        "print(unit1)\n",
        "print(unit2)"
      ],
      "metadata": {
        "colab": {
          "base_uri": "https://localhost:8080/"
        },
        "id": "BcV0xQtz8WrJ",
        "outputId": "b224bf4c-e35b-4eb6-d070-cd4627a2783c"
      },
      "execution_count": null,
      "outputs": [
        {
          "output_type": "stream",
          "name": "stdout",
          "text": [
            "[6.809, 6.4376, 6.9157, 7.3012, 7.4488, 7.3871, 6.8755, 7.0621, 6.684, 6.8236, 7.393, 7.5169, 6.9246, 6.9256, 6.5797, 6.8394, 6.597, 7.2705, 7.2828, 7.3495, 6.9438, 7.156, 6.5341, 7.2854, 6.9952, 6.8568, 7.2163, 6.6801, 6.9431, 7.0852, 6.7794, 7.2783, 7.1561, 7.3943, 6.9405]\n",
            "[6.7703, 7.5093, 6.73, 6.7878, 7.1522, 6.811, 7.2212, 6.6606, 7.2402, 7.0503, 6.881, 7.4059, 6.7652, 6.038, 7.1581, 7.024, 6.6672, 7.4314, 7.307, 6.7478, 6.8889, 7.422, 6.5217, 7.1688, 6.7594, 6.9399, 7.0133, 6.9182, 6.3346, 7.5459, 7.0992, 7.118, 6.6965, 6.578, 7.3875]\n"
          ]
        }
      ]
    },
    {
      "cell_type": "code",
      "source": [
        "from scipy import stats\n",
        "\n",
        "# Assuming you have two arrays of measurements from each unit: unit1_measurements and unit2_measurements\n",
        "\n",
        "# Perform a two-sample t-test\n",
        "t_statistic, p_value = stats.ttest_ind(unit1,unit2)\n",
        "\n",
        "print(p_value)\n"
      ],
      "metadata": {
        "colab": {
          "base_uri": "https://localhost:8080/"
        },
        "id": "Rt6lA76I-a0X",
        "outputId": "2c101ccc-0057-4669-c497-c05f33fba517"
      },
      "execution_count": null,
      "outputs": [
        {
          "output_type": "stream",
          "name": "stdout",
          "text": [
            "0.4722394724599501\n"
          ]
        }
      ]
    },
    {
      "cell_type": "code",
      "source": [
        "if p_value<0.05:\n",
        "    print('we are rejecting null hyothesis')\n",
        "else:\n",
        "    print('we are accepting null hypothesis')"
      ],
      "metadata": {
        "colab": {
          "base_uri": "https://localhost:8080/"
        },
        "id": "ZC5B4wo5__nN",
        "outputId": "179b3e98-4098-49ac-b5a2-ec51481253e1"
      },
      "execution_count": null,
      "outputs": [
        {
          "output_type": "stream",
          "name": "stdout",
          "text": [
            "we are accepting null hypothesis\n"
          ]
        }
      ]
    },
    {
      "cell_type": "markdown",
      "source": [
        "Interpretation:\n",
        "The p-value is greater than the significance level, so we accept the null hypothesis. There is no significant difference in the diameter of the cutlet between the two units."
      ],
      "metadata": {
        "id": "NkMxJf_4NxQZ"
      }
    },
    {
      "cell_type": "code",
      "source": [],
      "metadata": {
        "id": "VxxAPDf5Nyb6"
      },
      "execution_count": null,
      "outputs": []
    }
  ]
}