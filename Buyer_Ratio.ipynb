{
  "nbformat": 4,
  "nbformat_minor": 0,
  "metadata": {
    "colab": {
      "provenance": []
    },
    "kernelspec": {
      "name": "python3",
      "display_name": "Python 3"
    },
    "language_info": {
      "name": "python"
    }
  },
  "cells": [
    {
      "cell_type": "code",
      "execution_count": null,
      "metadata": {
        "id": "WX2c29AQ0Qr1"
      },
      "outputs": [],
      "source": [
        "from scipy import stats\n",
        "import pandas as pd\n",
        "\n",
        "\n",
        "data = pd.DataFrame({\n",
        "    'Males': [50, 142, 131, 70],\n",
        "    'Females': [435, 1523, 1356, 750]\n",
        "})\n"
      ]
    },
    {
      "cell_type": "code",
      "source": [
        "\n",
        "chi2_statistic, p_value, degrees_of_freedom, expected_frequencies = stats.chi2_contingency(data[['Males', 'Females']])\n"
      ],
      "metadata": {
        "id": "vGT8WfSz2Al4"
      },
      "execution_count": null,
      "outputs": []
    },
    {
      "cell_type": "code",
      "source": [
        "print(p_value)"
      ],
      "metadata": {
        "colab": {
          "base_uri": "https://localhost:8080/"
        },
        "id": "r9hEALC63AHK",
        "outputId": "1f3b6b38-2282-488d-c900-3b8fa4617036"
      },
      "execution_count": null,
      "outputs": [
        {
          "output_type": "stream",
          "name": "stdout",
          "text": [
            "0.6603094907091882\n"
          ]
        }
      ]
    },
    {
      "cell_type": "code",
      "source": [
        "alpha = 0.05\n",
        "\n",
        "if p_value < alpha:\n",
        "    print(\"We Reject Null Hypothesis.\")\n",
        "else:\n",
        "    print(\"We Accept Null Hypothesis.\")\n"
      ],
      "metadata": {
        "colab": {
          "base_uri": "https://localhost:8080/"
        },
        "id": "lDetHVKw2UH9",
        "outputId": "cf338fd4-3c91-468f-c402-d064be0692f5"
      },
      "execution_count": null,
      "outputs": [
        {
          "output_type": "stream",
          "name": "stdout",
          "text": [
            "We Accept Null Hypothesis.\n"
          ]
        }
      ]
    }
  ]
}