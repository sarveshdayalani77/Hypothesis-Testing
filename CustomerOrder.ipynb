{
  "nbformat": 4,
  "nbformat_minor": 0,
  "metadata": {
    "colab": {
      "provenance": []
    },
    "kernelspec": {
      "name": "python3",
      "display_name": "Python 3"
    },
    "language_info": {
      "name": "python"
    }
  },
  "cells": [
    {
      "cell_type": "code",
      "execution_count": null,
      "metadata": {
        "id": "DkVbvHWyOEuY"
      },
      "outputs": [],
      "source": [
        "from scipy import stats\n",
        "import pandas as pd\n",
        "\n",
        "\n",
        "data = pd.DataFrame({\n",
        "    'Error Free':[271,267,269,280],\n",
        "    'Defective':[29,33,31,20]\n",
        "})"
      ]
    },
    {
      "cell_type": "code",
      "source": [
        "chi2_statistic, p_value, degrees_of_freedom, expected_frequencies = stats.chi2_contingency(data[['Error Free','Defective']])"
      ],
      "metadata": {
        "id": "dvsTTcjJO1By"
      },
      "execution_count": null,
      "outputs": []
    },
    {
      "cell_type": "code",
      "source": [
        "print(p_value)"
      ],
      "metadata": {
        "colab": {
          "base_uri": "https://localhost:8080/"
        },
        "id": "yyexDOF1Q7CU",
        "outputId": "101ded58-ff44-448c-be00-0fddc5a2c4d5"
      },
      "execution_count": null,
      "outputs": [
        {
          "output_type": "stream",
          "name": "stdout",
          "text": [
            "0.2771020991233144\n"
          ]
        }
      ]
    },
    {
      "cell_type": "code",
      "source": [
        "alpha = 0.05\n",
        "\n",
        "if p_value < alpha:\n",
        "    print(\"There is a significant association between the center and the defective percentage.\")\n",
        "else:\n",
        "    print(\"There is no significant association between the center and the defective percentage.\")\n"
      ],
      "metadata": {
        "colab": {
          "base_uri": "https://localhost:8080/"
        },
        "id": "s87Gaw31PEth",
        "outputId": "4edbb8f5-36be-40e9-ce78-4c6b2210faf8"
      },
      "execution_count": null,
      "outputs": [
        {
          "output_type": "stream",
          "name": "stdout",
          "text": [
            "There is no significant association between the center and the defective percentage.\n"
          ]
        }
      ]
    }
  ]
}